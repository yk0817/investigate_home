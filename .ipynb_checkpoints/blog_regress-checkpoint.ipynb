{
 "cells": [
  {
   "cell_type": "code",
   "execution_count": 1,
   "metadata": {
    "collapsed": false,
    "scrolled": true
   },
   "outputs": [
    {
     "name": "stdout",
     "output_type": "stream",
     "text": [
      "Optimization Finished!\n",
      "Training cost= 1.69813 W1= 0.268034 W2= -0.0153844 W3= 0.25535 b= -0.647773 \n",
      "\n"
     ]
    }
   ],
   "source": [
    "from common import *\n",
    "rng = np.random\n",
    "\n",
    "learning_rate = 0.01\n",
    "# training_epochs = 1000\n",
    "training_epochs = 10\n",
    "display_step = 50\n",
    "\n",
    "with connection.cursor() as cursor:\n",
    "    sql =  \"select room_rent,room_deposit,room_reikinn,admin_expense,room_area,contructed_year,minutes_from_station,building_material  \\\n",
    "    from house_price where toyoko_true_or_not = 0;\"\n",
    "    \n",
    "    cursor.execute(sql)\n",
    "    results = cursor.fetchall()\n",
    "    train_Y = [row['room_rent'] + row['room_deposit'] / 24 + row['room_reikinn'] / 24 + row['admin_expense'] / 10000  for row in results]\n",
    "    train_X1 = [row['room_area'] for row in results]\n",
    "    # contructed_year nullは新築記号\n",
    "    train_X2 = [row['contructed_year'] if row['contructed_year'] else 0 for row in results]\n",
    "    train_X3 = [row['minutes_from_station'] for row in results]\n",
    "    # dummy 変数 木造ダミー 木造は1を取る 他は0 \n",
    "#     train_X4 = [1 if row['building_material'].strip() == \"木造\" else 0 for row in results]\n",
    "    \n",
    "    n_samples = len(train_X1)\n",
    "\n",
    "    X1 = tf.placeholder(\"float\")\n",
    "    X2 = tf.placeholder(\"float\")\n",
    "    X3 = tf.placeholder(\"float\")\n",
    "#     X4 = tf.placeholder(\"float\")\n",
    "    Y = tf.placeholder(\"float\")\n",
    "    # Set model weights\n",
    "    # 変数を定義    \n",
    "    W1 = tf.Variable(rng.randn(), name=\"weight\")\n",
    "    W2 = tf.Variable(rng.randn(), name=\"weight\")\n",
    "    W3 = tf.Variable(rng.randn(), name=\"weight\")\n",
    "#     W4 = tf.Variable(rng.randn(), name=\"weight\")\n",
    "    b = tf.Variable(rng.randn(), name=\"bias\")\n",
    "    # pred = tf.add(tf.multiply(X, W), b)\n",
    "    sum_list = [tf.multiply(X1,W1),tf.multiply(X2,W2),tf.multiply(X3,W3)]\n",
    "    pred = tf.add(tf.add_n(sum_list),b)\n",
    "    # print(sum_list[0])\n",
    "    cost = tf.reduce_sum(tf.pow(pred-Y, 2))/(2*n_samples)\n",
    "    optimizer = tf.train.GradientDescentOptimizer(learning_rate).minimize(cost)\n",
    "    \n",
    "    init = tf.global_variables_initializer()\n",
    "    with tf.Session() as sess:\n",
    "        sess.run(init)\n",
    "        count = 0\n",
    "        for epoch in range(training_epochs):\n",
    "            count += 1\n",
    "            # print(count)\n",
    "#             for (x1,x2,x3,x4, y) in zip(train_X1,train_X2,train_X3,train_X4,train_Y):\n",
    "            for (x1,x2,x3, y) in zip(train_X1,train_X2,train_X3,train_Y):\n",
    "                sess.run(optimizer, feed_dict={X1: x1, X2: x2, X3: x3, Y: y})\n",
    "#                 sess.run(optimizer, feed_dict={X1: x1, X2: x2, X3: x3, X4: x4, Y: y})\n",
    "\n",
    "#                 training_cost = sess.run(cost, feed_dict={X1: train_X1, X2: train_X2, X3: train_X3, X4: train_X4, Y: train_Y})\n",
    "                training_cost = sess.run(cost, feed_dict={X1: train_X1, X2: train_X2, X3: train_X3, Y: train_Y})\n",
    "\n",
    "#                 print(\"Training cost=\", training_cost, \"W1=\", sess.run(W1),\"W2=\", sess.run(W2),\"W3=\", sess.run(W3),\"W4=\", sess.run(W4), \"b=\", sess.run(b), '\\n')\n",
    "                \n",
    "        print(\"Optimization Finished!\")\n",
    "#         print(\"Training cost=\", training_cost, \"W1=\", sess.run(W1),\"W2=\", sess.run(W2),\"W3=\", sess.run(W3),\"W4=\", sess.run(W4), \"b=\", sess.run(b), '\\n')\n",
    "        W1,W2,W3,b = sess.run(W1),sess.run(W2),sess.run(W3),sess.run(b)\n",
    "        print(\"Training cost=\", training_cost, \"W1=\", W1,\"W2=\", W2,\"W3=\", W3, \"b=\", b, '\\n')\n",
    "\n",
    "# connection.close()        "
   ]
  },
  {
   "cell_type": "code",
   "execution_count": 43,
   "metadata": {
    "collapsed": false
   },
   "outputs": [
    {
     "ename": "SyntaxError",
     "evalue": "can't assign to operator (<ipython-input-43-952dfc2b1a36>, line 13)",
     "output_type": "error",
     "traceback": [
      "\u001b[0;36m  File \u001b[0;32m\"<ipython-input-43-952dfc2b1a36>\"\u001b[0;36m, line \u001b[0;32m13\u001b[0m\n\u001b[0;31m    R^2 = 1 - float(sigma_yi_f / sigma_yi_u)\u001b[0m\n\u001b[0m                                            ^\u001b[0m\n\u001b[0;31mSyntaxError\u001b[0m\u001b[0;31m:\u001b[0m can't assign to operator\n"
     ]
    }
   ],
   "source": [
    "#決定係数を求める。numpuyで計算\n",
    "X_1 = W1 * np.array(train_X1)\n",
    "X_2 = W2 * np.array(train_X2)\n",
    "# print(X_1.shape)\n",
    "X_3 = W3 * np.array(train_X3)\n",
    "\n",
    "sigma_yi_f = np.sum(np.power(np.array(train_Y)- X_1 - X_2 - X_3,2))\n",
    "# 平均値の数値\n",
    "u_y = np.ones(np.array(X_1.shape)) *np.average(train_Y)\n",
    "sigma_yi_u = np.sum(np.power(train_Y - u_y,2))\n",
    "\n",
    "# print(sigma_yi_u)\n",
    "R^2 = 1 - float(sigma_yi_f / sigma_yi_u)\n",
    "print(R^2)"
   ]
  },
  {
   "cell_type": "code",
   "execution_count": null,
   "metadata": {
    "collapsed": true
   },
   "outputs": [],
   "source": []
  },
  {
   "cell_type": "code",
   "execution_count": null,
   "metadata": {
    "collapsed": true
   },
   "outputs": [],
   "source": []
  }
 ],
 "metadata": {
  "kernelspec": {
   "display_name": "Python 3",
   "language": "python",
   "name": "python3"
  },
  "language_info": {
   "codemirror_mode": {
    "name": "ipython",
    "version": 3
   },
   "file_extension": ".py",
   "mimetype": "text/x-python",
   "name": "python",
   "nbconvert_exporter": "python",
   "pygments_lexer": "ipython3",
   "version": "3.5.1"
  }
 },
 "nbformat": 4,
 "nbformat_minor": 0
}
