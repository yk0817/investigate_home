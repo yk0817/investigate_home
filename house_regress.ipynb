{
 "cells": [
  {
   "cell_type": "code",
   "execution_count": 18,
   "metadata": {
    "collapsed": false
   },
   "outputs": [
    {
     "name": "stdout",
     "output_type": "stream",
     "text": [
      "Tensor(\"Add_7:0\", dtype=float32)\n",
      "Tensor(\"Sum_2:0\", dtype=float32)\n"
     ]
    }
   ],
   "source": [
    "from common import *\n",
    "rng = np.random\n",
    "\n",
    "\n",
    "with connection.cursor() as cursor:\n",
    "    sql = \"select room_rent,room_area from house_price;\"\n",
    "    cursor.execute(sql)\n",
    "    results = cursor.fetchall()\n",
    "    # 内包表記で計算してみる\n",
    "    train_Y = [np.asarray(row['room_rent']) for row in results]\n",
    "    train_X = [np.asarray(row['room_area']) for row in results]\n",
    "    n_samples = train_X\n",
    "    X = tf.placeholder(\"float\")\n",
    "    Y = tf.placeholder(\"float\")\n",
    "    # Set model weights\n",
    "    # 変数を定義    \n",
    "    W = tf.Variable(rng.randn(), name=\"weight\")\n",
    "    b = tf.Variable(rng.randn(), name=\"bias\")\n",
    "    pred = tf.add(tf.multiply(X, W), b)\n",
    "    cost = tf.reduce_sum(tf.pow(pred-Y, 2))/(2*n_samples)\n",
    "    \n"
   ]
  },
  {
   "cell_type": "code",
   "execution_count": null,
   "metadata": {
    "collapsed": true
   },
   "outputs": [],
   "source": []
  }
 ],
 "metadata": {
  "kernelspec": {
   "display_name": "Python 3",
   "language": "python",
   "name": "python3"
  },
  "language_info": {
   "codemirror_mode": {
    "name": "ipython",
    "version": 3
   },
   "file_extension": ".py",
   "mimetype": "text/x-python",
   "name": "python",
   "nbconvert_exporter": "python",
   "pygments_lexer": "ipython3",
   "version": "3.5.3"
  }
 },
 "nbformat": 4,
 "nbformat_minor": 0
}
